{
 "cells": [
  {
   "cell_type": "code",
   "execution_count": 1,
   "metadata": {},
   "outputs": [],
   "source": [
    "import numpy as np\n",
    "import tensorflow as tf"
   ]
  },
  {
   "cell_type": "markdown",
   "metadata": {},
   "source": [
    "### Data"
   ]
  },
  {
   "cell_type": "code",
   "execution_count": 2,
   "metadata": {},
   "outputs": [],
   "source": [
    "npz = np.load('Audiobooks_data_train.npz')\n",
    "\n",
    "train_inputs = npz['inputs'].astype(np.float)\n",
    "train_targets = npz['targets'].astype(np.int)\n",
    "\n",
    "npz = np.load('Audiobooks_data_validation.npz')\n",
    "validation_inputs, validation_targets = npz['inputs'].astype(np.float), npz['targets'].astype(np.int)\n",
    "\n",
    "npz = np.load('Audiobooks_data_test.npz')\n",
    "test_inputs, test_targets = npz['inputs'].astype(np.float), npz['targets'].astype(np.int)"
   ]
  },
  {
   "cell_type": "markdown",
   "metadata": {},
   "source": [
    "### Model"
   ]
  },
  {
   "cell_type": "code",
   "execution_count": 5,
   "metadata": {},
   "outputs": [
    {
     "name": "stdout",
     "output_type": "stream",
     "text": [
      "Epoch 1/100\n",
      "36/36 - 0s - loss: 0.5855 - accuracy: 0.6552 - val_loss: 0.4992 - val_accuracy: 0.7517\n",
      "Epoch 2/100\n",
      "36/36 - 0s - loss: 0.4479 - accuracy: 0.7661 - val_loss: 0.4212 - val_accuracy: 0.8054\n",
      "Epoch 3/100\n",
      "36/36 - 0s - loss: 0.3979 - accuracy: 0.7821 - val_loss: 0.3890 - val_accuracy: 0.7875\n",
      "Epoch 4/100\n",
      "36/36 - 0s - loss: 0.3837 - accuracy: 0.7885 - val_loss: 0.3731 - val_accuracy: 0.7964\n",
      "Epoch 5/100\n",
      "36/36 - 0s - loss: 0.3666 - accuracy: 0.8041 - val_loss: 0.3562 - val_accuracy: 0.8389\n",
      "Epoch 6/100\n",
      "36/36 - 0s - loss: 0.3593 - accuracy: 0.7980 - val_loss: 0.3532 - val_accuracy: 0.7964\n",
      "Epoch 7/100\n",
      "36/36 - 0s - loss: 0.3519 - accuracy: 0.8072 - val_loss: 0.3408 - val_accuracy: 0.8210\n",
      "Epoch 8/100\n",
      "36/36 - 0s - loss: 0.3468 - accuracy: 0.8066 - val_loss: 0.3359 - val_accuracy: 0.8300\n",
      "Epoch 9/100\n",
      "36/36 - 0s - loss: 0.3452 - accuracy: 0.8106 - val_loss: 0.3433 - val_accuracy: 0.8188\n",
      "Epoch 10/100\n",
      "36/36 - 0s - loss: 0.3452 - accuracy: 0.7994 - val_loss: 0.3299 - val_accuracy: 0.8345\n",
      "Epoch 11/100\n",
      "36/36 - 0s - loss: 0.3351 - accuracy: 0.8161 - val_loss: 0.3263 - val_accuracy: 0.8233\n",
      "Epoch 12/100\n",
      "36/36 - 0s - loss: 0.3338 - accuracy: 0.8161 - val_loss: 0.3280 - val_accuracy: 0.8233\n",
      "Epoch 13/100\n",
      "36/36 - 0s - loss: 0.3325 - accuracy: 0.8175 - val_loss: 0.3242 - val_accuracy: 0.8277\n",
      "Epoch 14/100\n",
      "36/36 - 0s - loss: 0.3295 - accuracy: 0.8195 - val_loss: 0.3218 - val_accuracy: 0.8277\n",
      "Epoch 15/100\n",
      "36/36 - 0s - loss: 0.3283 - accuracy: 0.8153 - val_loss: 0.3209 - val_accuracy: 0.8345\n",
      "Epoch 16/100\n",
      "36/36 - 0s - loss: 0.3286 - accuracy: 0.8195 - val_loss: 0.3145 - val_accuracy: 0.8367\n",
      "Epoch 17/100\n",
      "36/36 - 0s - loss: 0.3246 - accuracy: 0.8251 - val_loss: 0.3138 - val_accuracy: 0.8434\n",
      "Epoch 18/100\n",
      "36/36 - 0s - loss: 0.3275 - accuracy: 0.8195 - val_loss: 0.3192 - val_accuracy: 0.8210\n",
      "Epoch 19/100\n",
      "36/36 - 0s - loss: 0.3242 - accuracy: 0.8156 - val_loss: 0.3149 - val_accuracy: 0.8300\n"
     ]
    },
    {
     "data": {
      "text/plain": [
       "<tensorflow.python.keras.callbacks.History at 0x278452f5100>"
      ]
     },
     "execution_count": 5,
     "metadata": {},
     "output_type": "execute_result"
    }
   ],
   "source": [
    "input_size = 10\n",
    "output_size = 2\n",
    "hidden_layer_size = 80\n",
    "\n",
    "model = tf.keras.Sequential([\n",
    "    tf.keras.layers.Dense(hidden_layer_size, activation='relu'), # 1st hidden layer\n",
    "    tf.keras.layers.Dense(hidden_layer_size, activation='relu'), # 2nd hidden layer\n",
    "    tf.keras.layers.Dense(output_size, activation='softmax') # output layer\n",
    "])\n",
    "\n",
    "# Choose the optimizer and the loss function\n",
    "model.compile(optimizer='adam', loss='sparse_categorical_crossentropy', metrics=['accuracy'])\n",
    "\n",
    "# Training\n",
    "batch_size = 100\n",
    "max_epochs = 100\n",
    "\n",
    "# set an early stopping mechanism\n",
    "# set patience=2, to be a bit tolerant against random validation loss increases\n",
    "early_stopping = tf.keras.callbacks.EarlyStopping(patience=2)\n",
    "\n",
    "# fit the model\n",
    "model.fit(train_inputs, # train inputs\n",
    "          train_targets, # train targets\n",
    "          batch_size=batch_size, # batch size\n",
    "          epochs=max_epochs, # epochs that we will train for (assuming early stopping doesn't kick in)\n",
    "          # callbacks are functions called by a task when a task is completed\n",
    "          # task here is to check if val_loss is increasing\n",
    "          callbacks=[early_stopping], # early stopping\n",
    "          validation_data=(validation_inputs, validation_targets), # validation data\n",
    "          verbose = 2 # making sure I get enough information about the training process\n",
    "          ) \n"
   ]
  },
  {
   "cell_type": "markdown",
   "metadata": {},
   "source": [
    "### Test the model"
   ]
  },
  {
   "cell_type": "code",
   "execution_count": 6,
   "metadata": {},
   "outputs": [
    {
     "name": "stdout",
     "output_type": "stream",
     "text": [
      "14/14 [==============================] - 0s 2ms/step - loss: 0.3469 - accuracy: 0.8281\n"
     ]
    }
   ],
   "source": [
    "test_loss, test_accuracy = model.evaluate(test_inputs, test_targets)"
   ]
  },
  {
   "cell_type": "code",
   "execution_count": 7,
   "metadata": {},
   "outputs": [
    {
     "name": "stdout",
     "output_type": "stream",
     "text": [
      "\n",
      "Test loss: 0.35. Test accuracy: 82.81%\n"
     ]
    }
   ],
   "source": [
    "print('\\nTest loss: {0:.2f}. Test accuracy: {1:.2f}%'.format(test_loss, test_accuracy*100.))"
   ]
  },
  {
   "cell_type": "code",
   "execution_count": null,
   "metadata": {},
   "outputs": [],
   "source": []
  }
 ],
 "metadata": {
  "kernelspec": {
   "display_name": "Python 3",
   "language": "python",
   "name": "python3"
  },
  "language_info": {
   "codemirror_mode": {
    "name": "ipython",
    "version": 3
   },
   "file_extension": ".py",
   "mimetype": "text/x-python",
   "name": "python",
   "nbconvert_exporter": "python",
   "pygments_lexer": "ipython3",
   "version": "3.8.8"
  }
 },
 "nbformat": 4,
 "nbformat_minor": 4
}
